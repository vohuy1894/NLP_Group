{
  "nbformat": 4,
  "nbformat_minor": 0,
  "metadata": {
    "colab": {
      "name": "Fine-Tune v5.ipynb",
      "provenance": [],
      "collapsed_sections": []
    },
    "kernelspec": {
      "name": "python3",
      "display_name": "Python 3"
    },
    "language_info": {
      "name": "python"
    },
    "widgets": {
      "application/vnd.jupyter.widget-state+json": {
        "ea81c4af03cb4ebca3f62ad50742af93": {
          "model_module": "@jupyter-widgets/controls",
          "model_name": "HBoxModel",
          "model_module_version": "1.5.0",
          "state": {
            "_view_name": "HBoxView",
            "_dom_classes": [],
            "_model_name": "HBoxModel",
            "_view_module": "@jupyter-widgets/controls",
            "_model_module_version": "1.5.0",
            "_view_count": null,
            "_view_module_version": "1.5.0",
            "box_style": "",
            "layout": "IPY_MODEL_b76dc3f6615342f1ab0891c71712aa3d",
            "_model_module": "@jupyter-widgets/controls",
            "children": [
              "IPY_MODEL_6649b78c19c74ddf8ae9aa1a8a4c96b5",
              "IPY_MODEL_37e5afd180b14e77ad25229e81ed12ad",
              "IPY_MODEL_8db5c58d7c124a7cad3c8d4cad453a7b"
            ]
          }
        },
        "b76dc3f6615342f1ab0891c71712aa3d": {
          "model_module": "@jupyter-widgets/base",
          "model_name": "LayoutModel",
          "model_module_version": "1.2.0",
          "state": {
            "_view_name": "LayoutView",
            "grid_template_rows": null,
            "right": null,
            "justify_content": null,
            "_view_module": "@jupyter-widgets/base",
            "overflow": null,
            "_model_module_version": "1.2.0",
            "_view_count": null,
            "flex_flow": null,
            "width": null,
            "min_width": null,
            "border": null,
            "align_items": null,
            "bottom": null,
            "_model_module": "@jupyter-widgets/base",
            "top": null,
            "grid_column": null,
            "overflow_y": null,
            "overflow_x": null,
            "grid_auto_flow": null,
            "grid_area": null,
            "grid_template_columns": null,
            "flex": null,
            "_model_name": "LayoutModel",
            "justify_items": null,
            "grid_row": null,
            "max_height": null,
            "align_content": null,
            "visibility": null,
            "align_self": null,
            "height": null,
            "min_height": null,
            "padding": null,
            "grid_auto_rows": null,
            "grid_gap": null,
            "max_width": null,
            "order": null,
            "_view_module_version": "1.2.0",
            "grid_template_areas": null,
            "object_position": null,
            "object_fit": null,
            "grid_auto_columns": null,
            "margin": null,
            "display": null,
            "left": null
          }
        },
        "6649b78c19c74ddf8ae9aa1a8a4c96b5": {
          "model_module": "@jupyter-widgets/controls",
          "model_name": "HTMLModel",
          "model_module_version": "1.5.0",
          "state": {
            "_view_name": "HTMLView",
            "style": "IPY_MODEL_4a6a1fc1718d4e509a3658233b60a21c",
            "_dom_classes": [],
            "description": "",
            "_model_name": "HTMLModel",
            "placeholder": "​",
            "_view_module": "@jupyter-widgets/controls",
            "_model_module_version": "1.5.0",
            "value": "Downloading: 100%",
            "_view_count": null,
            "_view_module_version": "1.5.0",
            "description_tooltip": null,
            "_model_module": "@jupyter-widgets/controls",
            "layout": "IPY_MODEL_146d24be19b84ce5959cca7981cc5b59"
          }
        },
        "37e5afd180b14e77ad25229e81ed12ad": {
          "model_module": "@jupyter-widgets/controls",
          "model_name": "FloatProgressModel",
          "model_module_version": "1.5.0",
          "state": {
            "_view_name": "ProgressView",
            "style": "IPY_MODEL_da3e6fa3af454948b1c4ee3f430ddbe0",
            "_dom_classes": [],
            "description": "",
            "_model_name": "FloatProgressModel",
            "bar_style": "success",
            "max": 497933648,
            "_view_module": "@jupyter-widgets/controls",
            "_model_module_version": "1.5.0",
            "value": 497933648,
            "_view_count": null,
            "_view_module_version": "1.5.0",
            "orientation": "horizontal",
            "min": 0,
            "description_tooltip": null,
            "_model_module": "@jupyter-widgets/controls",
            "layout": "IPY_MODEL_7bb45012d8854a439fb28cc8c39f2540"
          }
        },
        "8db5c58d7c124a7cad3c8d4cad453a7b": {
          "model_module": "@jupyter-widgets/controls",
          "model_name": "HTMLModel",
          "model_module_version": "1.5.0",
          "state": {
            "_view_name": "HTMLView",
            "style": "IPY_MODEL_25d700c6339942f997179e7251ea6722",
            "_dom_classes": [],
            "description": "",
            "_model_name": "HTMLModel",
            "placeholder": "​",
            "_view_module": "@jupyter-widgets/controls",
            "_model_module_version": "1.5.0",
            "value": " 475M/475M [00:24&lt;00:00, 25.4MB/s]",
            "_view_count": null,
            "_view_module_version": "1.5.0",
            "description_tooltip": null,
            "_model_module": "@jupyter-widgets/controls",
            "layout": "IPY_MODEL_d8ad66fe6a3941d3a177dd3350302eb3"
          }
        },
        "4a6a1fc1718d4e509a3658233b60a21c": {
          "model_module": "@jupyter-widgets/controls",
          "model_name": "DescriptionStyleModel",
          "model_module_version": "1.5.0",
          "state": {
            "_view_name": "StyleView",
            "_model_name": "DescriptionStyleModel",
            "description_width": "",
            "_view_module": "@jupyter-widgets/base",
            "_model_module_version": "1.5.0",
            "_view_count": null,
            "_view_module_version": "1.2.0",
            "_model_module": "@jupyter-widgets/controls"
          }
        },
        "146d24be19b84ce5959cca7981cc5b59": {
          "model_module": "@jupyter-widgets/base",
          "model_name": "LayoutModel",
          "model_module_version": "1.2.0",
          "state": {
            "_view_name": "LayoutView",
            "grid_template_rows": null,
            "right": null,
            "justify_content": null,
            "_view_module": "@jupyter-widgets/base",
            "overflow": null,
            "_model_module_version": "1.2.0",
            "_view_count": null,
            "flex_flow": null,
            "width": null,
            "min_width": null,
            "border": null,
            "align_items": null,
            "bottom": null,
            "_model_module": "@jupyter-widgets/base",
            "top": null,
            "grid_column": null,
            "overflow_y": null,
            "overflow_x": null,
            "grid_auto_flow": null,
            "grid_area": null,
            "grid_template_columns": null,
            "flex": null,
            "_model_name": "LayoutModel",
            "justify_items": null,
            "grid_row": null,
            "max_height": null,
            "align_content": null,
            "visibility": null,
            "align_self": null,
            "height": null,
            "min_height": null,
            "padding": null,
            "grid_auto_rows": null,
            "grid_gap": null,
            "max_width": null,
            "order": null,
            "_view_module_version": "1.2.0",
            "grid_template_areas": null,
            "object_position": null,
            "object_fit": null,
            "grid_auto_columns": null,
            "margin": null,
            "display": null,
            "left": null
          }
        },
        "da3e6fa3af454948b1c4ee3f430ddbe0": {
          "model_module": "@jupyter-widgets/controls",
          "model_name": "ProgressStyleModel",
          "model_module_version": "1.5.0",
          "state": {
            "_view_name": "StyleView",
            "_model_name": "ProgressStyleModel",
            "description_width": "",
            "_view_module": "@jupyter-widgets/base",
            "_model_module_version": "1.5.0",
            "_view_count": null,
            "_view_module_version": "1.2.0",
            "bar_color": null,
            "_model_module": "@jupyter-widgets/controls"
          }
        },
        "7bb45012d8854a439fb28cc8c39f2540": {
          "model_module": "@jupyter-widgets/base",
          "model_name": "LayoutModel",
          "model_module_version": "1.2.0",
          "state": {
            "_view_name": "LayoutView",
            "grid_template_rows": null,
            "right": null,
            "justify_content": null,
            "_view_module": "@jupyter-widgets/base",
            "overflow": null,
            "_model_module_version": "1.2.0",
            "_view_count": null,
            "flex_flow": null,
            "width": null,
            "min_width": null,
            "border": null,
            "align_items": null,
            "bottom": null,
            "_model_module": "@jupyter-widgets/base",
            "top": null,
            "grid_column": null,
            "overflow_y": null,
            "overflow_x": null,
            "grid_auto_flow": null,
            "grid_area": null,
            "grid_template_columns": null,
            "flex": null,
            "_model_name": "LayoutModel",
            "justify_items": null,
            "grid_row": null,
            "max_height": null,
            "align_content": null,
            "visibility": null,
            "align_self": null,
            "height": null,
            "min_height": null,
            "padding": null,
            "grid_auto_rows": null,
            "grid_gap": null,
            "max_width": null,
            "order": null,
            "_view_module_version": "1.2.0",
            "grid_template_areas": null,
            "object_position": null,
            "object_fit": null,
            "grid_auto_columns": null,
            "margin": null,
            "display": null,
            "left": null
          }
        },
        "25d700c6339942f997179e7251ea6722": {
          "model_module": "@jupyter-widgets/controls",
          "model_name": "DescriptionStyleModel",
          "model_module_version": "1.5.0",
          "state": {
            "_view_name": "StyleView",
            "_model_name": "DescriptionStyleModel",
            "description_width": "",
            "_view_module": "@jupyter-widgets/base",
            "_model_module_version": "1.5.0",
            "_view_count": null,
            "_view_module_version": "1.2.0",
            "_model_module": "@jupyter-widgets/controls"
          }
        },
        "d8ad66fe6a3941d3a177dd3350302eb3": {
          "model_module": "@jupyter-widgets/base",
          "model_name": "LayoutModel",
          "model_module_version": "1.2.0",
          "state": {
            "_view_name": "LayoutView",
            "grid_template_rows": null,
            "right": null,
            "justify_content": null,
            "_view_module": "@jupyter-widgets/base",
            "overflow": null,
            "_model_module_version": "1.2.0",
            "_view_count": null,
            "flex_flow": null,
            "width": null,
            "min_width": null,
            "border": null,
            "align_items": null,
            "bottom": null,
            "_model_module": "@jupyter-widgets/base",
            "top": null,
            "grid_column": null,
            "overflow_y": null,
            "overflow_x": null,
            "grid_auto_flow": null,
            "grid_area": null,
            "grid_template_columns": null,
            "flex": null,
            "_model_name": "LayoutModel",
            "justify_items": null,
            "grid_row": null,
            "max_height": null,
            "align_content": null,
            "visibility": null,
            "align_self": null,
            "height": null,
            "min_height": null,
            "padding": null,
            "grid_auto_rows": null,
            "grid_gap": null,
            "max_width": null,
            "order": null,
            "_view_module_version": "1.2.0",
            "grid_template_areas": null,
            "object_position": null,
            "object_fit": null,
            "grid_auto_columns": null,
            "margin": null,
            "display": null,
            "left": null
          }
        }
      }
    }
  },
  "cells": [
    {
      "cell_type": "code",
      "metadata": {
        "id": "trJvx7hKhaNV"
      },
      "source": [
        "# gpu monitoring\n",
        "!nvidia smi"
      ],
      "execution_count": null,
      "outputs": []
    },
    {
      "cell_type": "code",
      "metadata": {
        "colab": {
          "base_uri": "https://localhost:8080/"
        },
        "id": "87SUv0NiX1IJ",
        "outputId": "33899acf-6caf-4f4f-c9d7-ebc21e9adfa3"
      },
      "source": [
        "# install\n",
        "! pip install tensorflow\n",
        "! pip install transformers"
      ],
      "execution_count": 1,
      "outputs": [
        {
          "output_type": "stream",
          "name": "stdout",
          "text": [
            "Requirement already satisfied: tensorflow in /usr/local/lib/python3.7/dist-packages (2.6.0)\n",
            "Requirement already satisfied: six~=1.15.0 in /usr/local/lib/python3.7/dist-packages (from tensorflow) (1.15.0)\n",
            "Requirement already satisfied: google-pasta~=0.2 in /usr/local/lib/python3.7/dist-packages (from tensorflow) (0.2.0)\n",
            "Requirement already satisfied: absl-py~=0.10 in /usr/local/lib/python3.7/dist-packages (from tensorflow) (0.12.0)\n",
            "Requirement already satisfied: wheel~=0.35 in /usr/local/lib/python3.7/dist-packages (from tensorflow) (0.37.0)\n",
            "Requirement already satisfied: h5py~=3.1.0 in /usr/local/lib/python3.7/dist-packages (from tensorflow) (3.1.0)\n",
            "Requirement already satisfied: termcolor~=1.1.0 in /usr/local/lib/python3.7/dist-packages (from tensorflow) (1.1.0)\n",
            "Requirement already satisfied: tensorboard~=2.6 in /usr/local/lib/python3.7/dist-packages (from tensorflow) (2.6.0)\n",
            "Requirement already satisfied: numpy~=1.19.2 in /usr/local/lib/python3.7/dist-packages (from tensorflow) (1.19.5)\n",
            "Requirement already satisfied: protobuf>=3.9.2 in /usr/local/lib/python3.7/dist-packages (from tensorflow) (3.17.3)\n",
            "Requirement already satisfied: flatbuffers~=1.12.0 in /usr/local/lib/python3.7/dist-packages (from tensorflow) (1.12)\n",
            "Requirement already satisfied: keras~=2.6 in /usr/local/lib/python3.7/dist-packages (from tensorflow) (2.6.0)\n",
            "Requirement already satisfied: typing-extensions~=3.7.4 in /usr/local/lib/python3.7/dist-packages (from tensorflow) (3.7.4.3)\n",
            "Requirement already satisfied: opt-einsum~=3.3.0 in /usr/local/lib/python3.7/dist-packages (from tensorflow) (3.3.0)\n",
            "Requirement already satisfied: wrapt~=1.12.1 in /usr/local/lib/python3.7/dist-packages (from tensorflow) (1.12.1)\n",
            "Requirement already satisfied: tensorflow-estimator~=2.6 in /usr/local/lib/python3.7/dist-packages (from tensorflow) (2.6.0)\n",
            "Requirement already satisfied: gast==0.4.0 in /usr/local/lib/python3.7/dist-packages (from tensorflow) (0.4.0)\n",
            "Requirement already satisfied: keras-preprocessing~=1.1.2 in /usr/local/lib/python3.7/dist-packages (from tensorflow) (1.1.2)\n",
            "Requirement already satisfied: clang~=5.0 in /usr/local/lib/python3.7/dist-packages (from tensorflow) (5.0)\n",
            "Requirement already satisfied: grpcio<2.0,>=1.37.0 in /usr/local/lib/python3.7/dist-packages (from tensorflow) (1.41.0)\n",
            "Requirement already satisfied: astunparse~=1.6.3 in /usr/local/lib/python3.7/dist-packages (from tensorflow) (1.6.3)\n",
            "Requirement already satisfied: cached-property in /usr/local/lib/python3.7/dist-packages (from h5py~=3.1.0->tensorflow) (1.5.2)\n",
            "Requirement already satisfied: google-auth-oauthlib<0.5,>=0.4.1 in /usr/local/lib/python3.7/dist-packages (from tensorboard~=2.6->tensorflow) (0.4.6)\n",
            "Requirement already satisfied: markdown>=2.6.8 in /usr/local/lib/python3.7/dist-packages (from tensorboard~=2.6->tensorflow) (3.3.4)\n",
            "Requirement already satisfied: werkzeug>=0.11.15 in /usr/local/lib/python3.7/dist-packages (from tensorboard~=2.6->tensorflow) (1.0.1)\n",
            "Requirement already satisfied: tensorboard-plugin-wit>=1.6.0 in /usr/local/lib/python3.7/dist-packages (from tensorboard~=2.6->tensorflow) (1.8.0)\n",
            "Requirement already satisfied: tensorboard-data-server<0.7.0,>=0.6.0 in /usr/local/lib/python3.7/dist-packages (from tensorboard~=2.6->tensorflow) (0.6.1)\n",
            "Requirement already satisfied: requests<3,>=2.21.0 in /usr/local/lib/python3.7/dist-packages (from tensorboard~=2.6->tensorflow) (2.23.0)\n",
            "Requirement already satisfied: google-auth<2,>=1.6.3 in /usr/local/lib/python3.7/dist-packages (from tensorboard~=2.6->tensorflow) (1.35.0)\n",
            "Requirement already satisfied: setuptools>=41.0.0 in /usr/local/lib/python3.7/dist-packages (from tensorboard~=2.6->tensorflow) (57.4.0)\n",
            "Requirement already satisfied: pyasn1-modules>=0.2.1 in /usr/local/lib/python3.7/dist-packages (from google-auth<2,>=1.6.3->tensorboard~=2.6->tensorflow) (0.2.8)\n",
            "Requirement already satisfied: cachetools<5.0,>=2.0.0 in /usr/local/lib/python3.7/dist-packages (from google-auth<2,>=1.6.3->tensorboard~=2.6->tensorflow) (4.2.4)\n",
            "Requirement already satisfied: rsa<5,>=3.1.4 in /usr/local/lib/python3.7/dist-packages (from google-auth<2,>=1.6.3->tensorboard~=2.6->tensorflow) (4.7.2)\n",
            "Requirement already satisfied: requests-oauthlib>=0.7.0 in /usr/local/lib/python3.7/dist-packages (from google-auth-oauthlib<0.5,>=0.4.1->tensorboard~=2.6->tensorflow) (1.3.0)\n",
            "Requirement already satisfied: importlib-metadata in /usr/local/lib/python3.7/dist-packages (from markdown>=2.6.8->tensorboard~=2.6->tensorflow) (4.8.1)\n",
            "Requirement already satisfied: pyasn1<0.5.0,>=0.4.6 in /usr/local/lib/python3.7/dist-packages (from pyasn1-modules>=0.2.1->google-auth<2,>=1.6.3->tensorboard~=2.6->tensorflow) (0.4.8)\n",
            "Requirement already satisfied: certifi>=2017.4.17 in /usr/local/lib/python3.7/dist-packages (from requests<3,>=2.21.0->tensorboard~=2.6->tensorflow) (2021.5.30)\n",
            "Requirement already satisfied: urllib3!=1.25.0,!=1.25.1,<1.26,>=1.21.1 in /usr/local/lib/python3.7/dist-packages (from requests<3,>=2.21.0->tensorboard~=2.6->tensorflow) (1.24.3)\n",
            "Requirement already satisfied: idna<3,>=2.5 in /usr/local/lib/python3.7/dist-packages (from requests<3,>=2.21.0->tensorboard~=2.6->tensorflow) (2.10)\n",
            "Requirement already satisfied: chardet<4,>=3.0.2 in /usr/local/lib/python3.7/dist-packages (from requests<3,>=2.21.0->tensorboard~=2.6->tensorflow) (3.0.4)\n",
            "Requirement already satisfied: oauthlib>=3.0.0 in /usr/local/lib/python3.7/dist-packages (from requests-oauthlib>=0.7.0->google-auth-oauthlib<0.5,>=0.4.1->tensorboard~=2.6->tensorflow) (3.1.1)\n",
            "Requirement already satisfied: zipp>=0.5 in /usr/local/lib/python3.7/dist-packages (from importlib-metadata->markdown>=2.6.8->tensorboard~=2.6->tensorflow) (3.6.0)\n",
            "Collecting transformers\n",
            "  Downloading transformers-4.12.3-py3-none-any.whl (3.1 MB)\n",
            "\u001b[K     |████████████████████████████████| 3.1 MB 4.2 MB/s \n",
            "\u001b[?25hRequirement already satisfied: filelock in /usr/local/lib/python3.7/dist-packages (from transformers) (3.3.0)\n",
            "Requirement already satisfied: requests in /usr/local/lib/python3.7/dist-packages (from transformers) (2.23.0)\n",
            "Requirement already satisfied: importlib-metadata in /usr/local/lib/python3.7/dist-packages (from transformers) (4.8.1)\n",
            "Collecting pyyaml>=5.1\n",
            "  Downloading PyYAML-6.0-cp37-cp37m-manylinux_2_5_x86_64.manylinux1_x86_64.manylinux_2_12_x86_64.manylinux2010_x86_64.whl (596 kB)\n",
            "\u001b[K     |████████████████████████████████| 596 kB 54.1 MB/s \n",
            "\u001b[?25hRequirement already satisfied: numpy>=1.17 in /usr/local/lib/python3.7/dist-packages (from transformers) (1.19.5)\n",
            "Collecting tokenizers<0.11,>=0.10.1\n",
            "  Downloading tokenizers-0.10.3-cp37-cp37m-manylinux_2_5_x86_64.manylinux1_x86_64.manylinux_2_12_x86_64.manylinux2010_x86_64.whl (3.3 MB)\n",
            "\u001b[K     |████████████████████████████████| 3.3 MB 45.6 MB/s \n",
            "\u001b[?25hRequirement already satisfied: packaging>=20.0 in /usr/local/lib/python3.7/dist-packages (from transformers) (21.0)\n",
            "Requirement already satisfied: tqdm>=4.27 in /usr/local/lib/python3.7/dist-packages (from transformers) (4.62.3)\n",
            "Collecting huggingface-hub<1.0,>=0.1.0\n",
            "  Downloading huggingface_hub-0.1.1-py3-none-any.whl (59 kB)\n",
            "\u001b[K     |████████████████████████████████| 59 kB 5.2 MB/s \n",
            "\u001b[?25hCollecting sacremoses\n",
            "  Downloading sacremoses-0.0.46-py3-none-any.whl (895 kB)\n",
            "\u001b[K     |████████████████████████████████| 895 kB 55.1 MB/s \n",
            "\u001b[?25hRequirement already satisfied: regex!=2019.12.17 in /usr/local/lib/python3.7/dist-packages (from transformers) (2019.12.20)\n",
            "Requirement already satisfied: typing-extensions>=3.7.4.3 in /usr/local/lib/python3.7/dist-packages (from huggingface-hub<1.0,>=0.1.0->transformers) (3.7.4.3)\n",
            "Requirement already satisfied: pyparsing>=2.0.2 in /usr/local/lib/python3.7/dist-packages (from packaging>=20.0->transformers) (2.4.7)\n",
            "Requirement already satisfied: zipp>=0.5 in /usr/local/lib/python3.7/dist-packages (from importlib-metadata->transformers) (3.6.0)\n",
            "Requirement already satisfied: urllib3!=1.25.0,!=1.25.1,<1.26,>=1.21.1 in /usr/local/lib/python3.7/dist-packages (from requests->transformers) (1.24.3)\n",
            "Requirement already satisfied: certifi>=2017.4.17 in /usr/local/lib/python3.7/dist-packages (from requests->transformers) (2021.5.30)\n",
            "Requirement already satisfied: chardet<4,>=3.0.2 in /usr/local/lib/python3.7/dist-packages (from requests->transformers) (3.0.4)\n",
            "Requirement already satisfied: idna<3,>=2.5 in /usr/local/lib/python3.7/dist-packages (from requests->transformers) (2.10)\n",
            "Requirement already satisfied: six in /usr/local/lib/python3.7/dist-packages (from sacremoses->transformers) (1.15.0)\n",
            "Requirement already satisfied: joblib in /usr/local/lib/python3.7/dist-packages (from sacremoses->transformers) (1.0.1)\n",
            "Requirement already satisfied: click in /usr/local/lib/python3.7/dist-packages (from sacremoses->transformers) (7.1.2)\n",
            "Installing collected packages: pyyaml, tokenizers, sacremoses, huggingface-hub, transformers\n",
            "  Attempting uninstall: pyyaml\n",
            "    Found existing installation: PyYAML 3.13\n",
            "    Uninstalling PyYAML-3.13:\n",
            "      Successfully uninstalled PyYAML-3.13\n",
            "Successfully installed huggingface-hub-0.1.1 pyyaml-6.0 sacremoses-0.0.46 tokenizers-0.10.3 transformers-4.12.3\n"
          ]
        }
      ]
    },
    {
      "cell_type": "code",
      "metadata": {
        "colab": {
          "base_uri": "https://localhost:8080/"
        },
        "id": "PqQN3x6bYtLX",
        "outputId": "75d4fb2b-6b1b-4be7-948a-3b03eb8fe428"
      },
      "source": [
        "# load data from A Modest Proposal\n",
        "!wget https://raw.githubusercontent.com/vohuy1894/NLP_Group/main/project/book%20text/1080.txt"
      ],
      "execution_count": 3,
      "outputs": [
        {
          "output_type": "stream",
          "name": "stdout",
          "text": [
            "--2021-11-08 02:33:46--  https://raw.githubusercontent.com/vohuy1894/NLP_Group/main/project/book%20text/1080.txt\n",
            "Resolving raw.githubusercontent.com (raw.githubusercontent.com)... 185.199.108.133, 185.199.109.133, 185.199.110.133, ...\n",
            "Connecting to raw.githubusercontent.com (raw.githubusercontent.com)|185.199.108.133|:443... connected.\n",
            "HTTP request sent, awaiting response... 200 OK\n",
            "Length: 20634 (20K) [text/plain]\n",
            "Saving to: ‘1080.txt’\n",
            "\n",
            "1080.txt            100%[===================>]  20.15K  --.-KB/s    in 0.001s  \n",
            "\n",
            "2021-11-08 02:33:46 (15.0 MB/s) - ‘1080.txt’ saved [20634/20634]\n",
            "\n"
          ]
        }
      ]
    },
    {
      "cell_type": "code",
      "metadata": {
        "colab": {
          "base_uri": "https://localhost:8080/",
          "height": 137
        },
        "id": "2EUfWqV6ZQHJ",
        "outputId": "51df57b1-8e1f-4e21-beb8-0d73a88ed92b"
      },
      "source": [
        "# read the data\n",
        "text_data = open(\"1080.txt\",\"r\").read()\n",
        "text_data"
      ],
      "execution_count": 4,
      "outputs": [
        {
          "output_type": "execute_result",
          "data": {
            "application/vnd.google.colaboratory.intrinsic+json": {
              "type": "string"
            },
            "text/plain": [
              "'\\\\r\\\\n\\\\r\\\\n\\\\r\\\\n\\\\r\\\\n\\\\r\\\\nA Modest Proposal\\\\r\\\\n\\\\r\\\\nFor preventing the children of poor people in Ireland,\\\\r\\\\nfrom being a burden on their parents or country,\\\\r\\\\nand for making them beneficial to the publick.\\\\r\\\\n\\\\r\\\\nby Dr. Jonathan Swift\\\\r\\\\n\\\\r\\\\n1729\\\\r\\\\n\\\\r\\\\n\\\\r\\\\n\\\\r\\\\n\\\\r\\\\nIt is a melancholy object to those, who walk through this great town,\\\\r\\\\nor travel in the country, when they see the streets, the roads, and\\\\r\\\\ncabbin-doors crowded with beggars of the female sex, followed by three,\\\\r\\\\nfour, or six children, all in rags, and importuning every passenger for\\\\r\\\\nan alms. These mothers, instead of being able to work for their honest\\\\r\\\\nlivelihood, are forced to employ all their time in stroling to beg\\\\r\\\\nsustenance for their helpless infants who, as they grow up, either turn\\\\r\\\\nthieves for want of work, or leave their dear native country, to fight\\\\r\\\\nfor the Pretender in Spain, or sell themselves to the Barbadoes.\\\\r\\\\n\\\\r\\\\nI think it is agreed by all parties, that this prodigious number of\\\\r\\\\nchildren in the arms, or on the backs, or at the heels of their\\\\r\\\\nmothers, and frequently of their fathers, is in the present deplorable\\\\r\\\\nstate of the kingdom, a very great additional grievance; and therefore\\\\r\\\\nwhoever could find out a fair, cheap and easy method of making these\\\\r\\\\nchildren sound and useful members of the commonwealth, would deserve so\\\\r\\\\nwell of the publick, as to have his statue set up for a preserver of\\\\r\\\\nthe nation.\\\\r\\\\n\\\\r\\\\nBut my intention is very far from being confined to provide only for\\\\r\\\\nthe children of professed beggars: it is of a much greater extent, and\\\\r\\\\nshall take in the whole number of infants at a certain age, who are\\\\r\\\\nborn of parents in effect as little able to support them, as those who\\\\r\\\\ndemand our charity in the streets.\\\\r\\\\n\\\\r\\\\nAs to my own part, having turned my thoughts for many years upon this\\\\r\\\\nimportant subject, and maturely weighed the several schemes of our\\\\r\\\\nprojectors, I have always found them grossly mistaken in their\\\\r\\\\ncomputation. It is true, a child just dropt from its dam, may be\\\\r\\\\nsupported by her milk, for a solar year, with little other nourishment:\\\\r\\\\nat most not above the value of two shillings, which the mother may\\\\r\\\\ncertainly get, or the value in scraps, by her lawful occupation of\\\\r\\\\nbegging; and it is exactly at one year old that I propose to provide\\\\r\\\\nfor them in such a manner, as, instead of being a charge upon their\\\\r\\\\nparents, or the parish, or wanting food and raiment for the rest of\\\\r\\\\ntheir lives, they shall, on the contrary, contribute to the feeding,\\\\r\\\\nand partly to the clothing of many thousands.\\\\r\\\\n\\\\r\\\\nThere is likewise another great advantage in my scheme, that it will\\\\r\\\\nprevent those voluntary abortions, and that horrid practice of women\\\\r\\\\nmurdering their bastard children, alas! too frequent among us,\\\\r\\\\nsacrificing the poor innocent babes, I doubt, more to avoid the expence\\\\r\\\\nthan the shame, which would move tears and pity in the most savage and\\\\r\\\\ninhuman breast.\\\\r\\\\n\\\\r\\\\nThe number of souls in this kingdom being usually reckoned one million\\\\r\\\\nand a half, of these I calculate there may be about two hundred\\\\r\\\\nthousand couple, whose wives are breeders; from which number I subtract\\\\r\\\\nthirty thousand couple, who are able to maintain their own children,\\\\r\\\\n(although I apprehend there cannot be so many under the present\\\\r\\\\ndistresses of the kingdom) but this being granted, there will remain a\\\\r\\\\nhundred and seventy thousand breeders. I again subtract fifty thousand,\\\\r\\\\nfor those women who miscarry, or whose children die by accident or\\\\r\\\\ndisease within the year. There only remain a hundred and twenty\\\\r\\\\nthousand children of poor parents annually born. The question therefore\\\\r\\\\nis, How this number shall be reared and provided for? which, as I have\\\\r\\\\nalready said, under the present situation of affairs, is utterly\\\\r\\\\nimpossible by all the methods hitherto proposed. For we can neither\\\\r\\\\nemploy them in handicraft or agriculture; they neither build houses, (I\\\\r\\\\nmean in the country) nor cultivate land: they can very seldom pick up a\\\\r\\\\nlivelihood by stealing till they arrive at six years old; except where\\\\r\\\\nthey are of towardly parts, although I confess they learn the rudiments\\\\r\\\\nmuch earlier; during which time they can however be properly looked\\\\r\\\\nupon only as probationers; as I have been informed by a principal\\\\r\\\\ngentleman in the county of Cavan, who protested to me, that he never\\\\r\\\\nknew above one or two instances under the age of six, even in a part of\\\\r\\\\nthe kingdom so renowned for the quickest proficiency in that art.\\\\r\\\\n\\\\r\\\\nI am assured by our merchants, that a boy or a girl, before twelve\\\\r\\\\nyears old, is no saleable commodity, and even when they come to this\\\\r\\\\nage, they will not yield above three pounds, or three pounds and half a\\\\r\\\\ncrown at most, on the exchange; which cannot turn to account either to\\\\r\\\\nthe parents or kingdom, the charge of nutriments and rags having been\\\\r\\\\nat least four times that value.\\\\r\\\\n\\\\r\\\\nI shall now therefore humbly propose my own thoughts, which I hope will\\\\r\\\\nnot be liable to the least objection.\\\\r\\\\n\\\\r\\\\nI have been assured by a very knowing American of my acquaintance in\\\\r\\\\nLondon, that a young healthy child well nursed, is, at a year old, a\\\\r\\\\nmost delicious nourishing and wholesome food, whether stewed, roasted,\\\\r\\\\nbaked, or boiled; and I make no doubt that it will equally serve in a\\\\r\\\\nfricasee, or a ragoust.\\\\r\\\\n\\\\r\\\\nI do therefore humbly offer it to publick consideration, that of the\\\\r\\\\nhundred and twenty thousand children, already computed, twenty thousand\\\\r\\\\nmay be reserved for breed, whereof only one fourth part to be males;\\\\r\\\\nwhich is more than we allow to sheep, black cattle, or swine, and my\\\\r\\\\nreason is, that these children are seldom the fruits of marriage, a\\\\r\\\\ncircumstance not much regarded by our savages, therefore, one male will\\\\r\\\\nbe sufficient to serve four females. That the remaining hundred\\\\r\\\\nthousand may, at a year old, be offered in sale to the persons of\\\\r\\\\nquality and fortune, through the kingdom, always advising the mother to\\\\r\\\\nlet them suck plentifully in the last month, so as to render them\\\\r\\\\nplump, and fat for a good table. A child will make two dishes at an\\\\r\\\\nentertainment for friends, and when the family dines alone, the fore or\\\\r\\\\nhind quarter will make a reasonable dish, and seasoned with a little\\\\r\\\\npepper or salt, will be very good boiled on the fourth day, especially\\\\r\\\\nin winter.\\\\r\\\\n\\\\r\\\\nI have reckoned upon a medium, that a child just born will weigh 12\\\\r\\\\npounds, and in a solar year, if tolerably nursed, encreaseth to 28\\\\r\\\\npounds.\\\\r\\\\n\\\\r\\\\nI grant this food will be somewhat dear, and therefore very proper for\\\\r\\\\nlandlords, who, as they have already devoured most of the parents, seem\\\\r\\\\nto have the best title to the children.\\\\r\\\\n\\\\r\\\\nInfant\\\\xe2\\\\x80\\\\x99s flesh will be in season throughout the year, but more\\\\r\\\\nplentiful in March, and a little before and after; for we are told by a\\\\r\\\\ngrave author, an eminent French physician, that fish being a prolifick\\\\r\\\\ndyet, there are more children born in Roman Catholick countries about\\\\r\\\\nnine months after Lent, than at any other season; therefore, reckoning\\\\r\\\\na year after Lent, the markets will be more glutted than usual, because\\\\r\\\\nthe number of Popish infants, is at least three to one in this kingdom,\\\\r\\\\nand therefore it will have one other collateral advantage, by lessening\\\\r\\\\nthe number of Papists among us.\\\\r\\\\n\\\\r\\\\nI have already computed the charge of nursing a beggar\\\\xe2\\\\x80\\\\x99s child (in\\\\r\\\\nwhich list I reckon all cottagers, labourers, and four-fifths of the\\\\r\\\\nfarmers) to be about two shillings per annum, rags included; and I\\\\r\\\\nbelieve no gentleman would repine to give ten shillings for the carcass\\\\r\\\\nof a good fat child, which, as I have said, will make four dishes of\\\\r\\\\nexcellent nutritive meat, when he hath only some particular friend, or\\\\r\\\\nhis own family to dine with him. Thus the squire will learn to be a\\\\r\\\\ngood landlord, and grow popular among his tenants, the mother will have\\\\r\\\\neight shillings neat profit, and be fit for work till she produces\\\\r\\\\nanother child.\\\\r\\\\n\\\\r\\\\nThose who are more thrifty (as I must confess the times require) may\\\\r\\\\nflay the carcass; the skin of which, artificially dressed, will make\\\\r\\\\nadmirable gloves for ladies, and summer boots for fine gentlemen.\\\\r\\\\n\\\\r\\\\nAs to our City of Dublin, shambles may be appointed for this purpose,\\\\r\\\\nin the most convenient parts of it, and butchers we may be assured will\\\\r\\\\nnot be wanting; although I rather recommend buying the children alive,\\\\r\\\\nand dressing them hot from the knife, as we do roasting pigs.\\\\r\\\\n\\\\r\\\\nA very worthy person, a true lover of his country, and whose virtues I\\\\r\\\\nhighly esteem, was lately pleased in discoursing on this matter, to\\\\r\\\\noffer a refinement upon my scheme. He said, that many gentlemen of this\\\\r\\\\nkingdom, having of late destroyed their deer, he conceived that the\\\\r\\\\nwant of venison might be well supplied by the bodies of young lads and\\\\r\\\\nmaidens, not exceeding fourteen years of age, nor under twelve; so\\\\r\\\\ngreat a number of both sexes in every county being now ready to starve\\\\r\\\\nfor want of work and service: and these to be disposed of by their\\\\r\\\\nparents if alive, or otherwise by their nearest relations. But with due\\\\r\\\\ndeference to so excellent a friend, and so deserving a patriot, I\\\\r\\\\ncannot be altogether in his sentiments; for as to the males, my\\\\r\\\\nAmerican acquaintance assured me from frequent experience, that their\\\\r\\\\nflesh was generally tough and lean, like that of our schoolboys, by\\\\r\\\\ncontinual exercise, and their taste disagreeable, and to fatten them\\\\r\\\\nwould not answer the charge. Then as to the females, it would, I think,\\\\r\\\\nwith humble submission, be a loss to the publick, because they soon\\\\r\\\\nwould become breeders themselves: and besides, it is not improbable\\\\r\\\\nthat some scrupulous people might be apt to censure such a practice,\\\\r\\\\n(although indeed very unjustly) as a little bordering upon cruelty,\\\\r\\\\nwhich, I confess, hath always been with me the strongest objection\\\\r\\\\nagainst any project, how well soever intended.\\\\r\\\\n\\\\r\\\\nBut in order to justify my friend, he confessed, that this expedient\\\\r\\\\nwas put into his head by the famous Psalmanaazor, a native of the\\\\r\\\\nisland Formosa, who came from thence to London, above twenty years ago,\\\\r\\\\nand in conversation told my friend, that in his country, when any young\\\\r\\\\nperson happened to be put to death, the executioner sold the carcass to\\\\r\\\\npersons of quality, as a prime dainty; and that, in his time, the body\\\\r\\\\nof a plump girl of fifteen, who was crucified for an attempt to poison\\\\r\\\\nthe Emperor, was sold to his imperial majesty\\\\xe2\\\\x80\\\\x99s prime minister of\\\\r\\\\nstate, and other great mandarins of the court in joints from the\\\\r\\\\ngibbet, at four hundred crowns. Neither indeed can I deny, that if the\\\\r\\\\nsame use were made of several plump young girls in this town, who\\\\r\\\\nwithout one single groat to their fortunes, cannot stir abroad without\\\\r\\\\na chair, and appear at a playhouse and assemblies in foreign fineries\\\\r\\\\nwhich they never will pay for, the kingdom would not be the worse.\\\\r\\\\n\\\\r\\\\nSome persons of a desponding spirit are in great concern about that\\\\r\\\\nvast number of poor people, who are aged, diseased, or maimed; and I\\\\r\\\\nhave been desired to employ my thoughts what course may be taken, to\\\\r\\\\nease the nation of so grievous an incumbrance. But I am not in the\\\\r\\\\nleast pain upon that matter, because it is very well known, that they\\\\r\\\\nare every day dying, and rotting, by cold and famine, and filth, and\\\\r\\\\nvermin, as fast as can be reasonably expected. And as to the young\\\\r\\\\nlabourers, they are now in almost as hopeful a condition. They cannot\\\\r\\\\nget work, and consequently pine away from want of nourishment, to a\\\\r\\\\ndegree, that if at any time they are accidentally hired to common\\\\r\\\\nlabour, they have not strength to perform it, and thus the country and\\\\r\\\\nthemselves are happily delivered from the evils to come.\\\\r\\\\n\\\\r\\\\nI have too long digressed, and therefore shall return to my subject. I\\\\r\\\\nthink the advantages by the proposal which I have made are obvious and\\\\r\\\\nmany, as well as of the highest importance.\\\\r\\\\n\\\\r\\\\nFor first, as I have already observed, it would greatly lessen the\\\\r\\\\nnumber of Papists, with whom we are yearly overrun, being the principal\\\\r\\\\nbreeders of the nation, as well as our most dangerous enemies, and who\\\\r\\\\nstay at home on purpose with a design to deliver the kingdom to the\\\\r\\\\nPretender, hoping to take their advantage by the absence of so many\\\\r\\\\ngood Protestants, who have chosen rather to leave their country, than\\\\r\\\\nstay at home and pay tithes against their conscience to an episcopal\\\\r\\\\ncurate.\\\\r\\\\n\\\\r\\\\nSecondly, The poorer tenants will have something valuable of their own,\\\\r\\\\nwhich by law may be made liable to a distress, and help to pay their\\\\r\\\\nlandlord\\\\xe2\\\\x80\\\\x99s rent, their corn and cattle being already seized, and money\\\\r\\\\na thing unknown.\\\\r\\\\n\\\\r\\\\nThirdly, Whereas the maintainance of a hundred thousand children, from\\\\r\\\\ntwo years old, and upwards, cannot be computed at less than ten\\\\r\\\\nshillings a piece per annum, the nation\\\\xe2\\\\x80\\\\x99s stock will be thereby\\\\r\\\\nencreased fifty thousand pounds per annum, besides the profit of a new\\\\r\\\\ndish, introduced to the tables of all gentlemen of fortune in the\\\\r\\\\nkingdom, who have any refinement in taste. And the money will circulate\\\\r\\\\namong our selves, the goods being entirely of our own growth and\\\\r\\\\nmanufacture.\\\\r\\\\n\\\\r\\\\nFourthly, The constant breeders, besides the gain of eight shillings\\\\r\\\\nsterling per annum by the sale of their children, will be rid of the\\\\r\\\\ncharge of maintaining them after the first year.\\\\r\\\\n\\\\r\\\\nFifthly, This food would likewise bring great custom to taverns, where\\\\r\\\\nthe vintners will certainly be so prudent as to procure the best\\\\r\\\\nreceipts for dressing it to perfection; and consequently have their\\\\r\\\\nhouses frequented by all the fine gentlemen, who justly value\\\\r\\\\nthemselves upon their knowledge in good eating; and a skilful cook, who\\\\r\\\\nunderstands how to oblige his guests, will contrive to make it as\\\\r\\\\nexpensive as they please.\\\\r\\\\n\\\\r\\\\nSixthly, This would be a great inducement to marriage, which all wise\\\\r\\\\nnations have either encouraged by rewards, or enforced by laws and\\\\r\\\\npenalties. It would encrease the care and tenderness of mothers towards\\\\r\\\\ntheir children, when they were sure of a settlement for life to the\\\\r\\\\npoor babes, provided in some sort by the publick, to their annual\\\\r\\\\nprofit instead of expence. We should soon see an honest emulation among\\\\r\\\\nthe married women, which of them could bring the fattest child to the\\\\r\\\\nmarket. Men would become as fond of their wives, during the time of\\\\r\\\\ntheir pregnancy, as they are now of their mares in foal, their cows in\\\\r\\\\ncalf, or sows when they are ready to farrow; nor offer to beat or kick\\\\r\\\\nthem (as is too frequent a practice) for fear of a miscarriage.\\\\r\\\\n\\\\r\\\\nMany other advantages might be enumerated. For instance, the addition\\\\r\\\\nof some thousand carcasses in our exportation of barrel\\\\xe2\\\\x80\\\\x99d beef: the\\\\r\\\\npropagation of swine\\\\xe2\\\\x80\\\\x99s flesh, and improvement in the art of making good\\\\r\\\\nbacon, so much wanted among us by the great destruction of pigs, too\\\\r\\\\nfrequent at our tables; which are no way comparable in taste or\\\\r\\\\nmagnificence to a well grown, fat yearling child, which roasted whole\\\\r\\\\nwill make a considerable figure at a Lord Mayor\\\\xe2\\\\x80\\\\x99s feast, or any other\\\\r\\\\npublick entertainment. But this, and many others, I omit, being\\\\r\\\\nstudious of brevity.\\\\r\\\\n\\\\r\\\\nSupposing that one thousand families in this city, would be constant\\\\r\\\\ncustomers for infants flesh, besides others who might have it at merry\\\\r\\\\nmeetings, particularly at weddings and christenings, I compute that\\\\r\\\\nDublin would take off annually about twenty thousand carcasses; and the\\\\r\\\\nrest of the kingdom (where probably they will be sold somewhat cheaper)\\\\r\\\\nthe remaining eighty thousand.\\\\r\\\\n\\\\r\\\\nI can think of no one objection, that will possibly be raised against\\\\r\\\\nthis proposal, unless it should be urged, that the number of people\\\\r\\\\nwill be thereby much lessened in the kingdom. This I freely own, and\\\\r\\\\nwas indeed one principal design in offering it to the world. I desire\\\\r\\\\nthe reader will observe, that I calculate my remedy for this one\\\\r\\\\nindividual Kingdom of Ireland, and for no other that ever was, is, or,\\\\r\\\\nI think, ever can be upon Earth. Therefore let no man talk to me of\\\\r\\\\nother expedients: Of taxing our absentees at five shillings a pound: Of\\\\r\\\\nusing neither clothes, nor houshold furniture, except what is of our\\\\r\\\\nown growth and manufacture: Of utterly rejecting the materials and\\\\r\\\\ninstruments that promote foreign luxury: Of curing the expensiveness of\\\\r\\\\npride, vanity, idleness, and gaming in our women: Of introducing a vein\\\\r\\\\nof parsimony, prudence and temperance: Of learning to love our country,\\\\r\\\\nwherein we differ even from Laplanders, and the inhabitants of\\\\r\\\\nTopinamboo: Of quitting our animosities and factions, nor acting any\\\\r\\\\nlonger like the Jews, who were murdering one another at the very moment\\\\r\\\\ntheir city was taken: Of being a little cautious not to sell our\\\\r\\\\ncountry and consciences for nothing: Of teaching landlords to have at\\\\r\\\\nleast one degree of mercy towards their tenants. Lastly, of putting a\\\\r\\\\nspirit of honesty, industry, and skill into our shopkeepers, who, if a\\\\r\\\\nresolution could now be taken to buy only our native goods, would\\\\r\\\\nimmediately unite to cheat and exact upon us in the price, the measure,\\\\r\\\\nand the goodness, nor could ever yet be brought to make one fair\\\\r\\\\nproposal of just dealing, though often and earnestly invited to it.\\\\r\\\\n\\\\r\\\\nTherefore I repeat, let no man talk to me of these and the like\\\\r\\\\nexpedients, till he hath at least some glympse of hope, that there will\\\\r\\\\never be some hearty and sincere attempt to put them into practice.\\\\r\\\\n\\\\r\\\\nBut, as to myself, having been wearied out for many years with offering\\\\r\\\\nvain, idle, visionary thoughts, and at length utterly despairing of\\\\r\\\\nsuccess, I fortunately fell upon this proposal, which, as it is wholly\\\\r\\\\nnew, so it hath something solid and real, of no expence and little\\\\r\\\\ntrouble, full in our own power, and whereby we can incur no danger in\\\\r\\\\ndisobliging England. For this kind of commodity will not bear\\\\r\\\\nexportation, and flesh being of too tender a consistence, to admit a\\\\r\\\\nlong continuance in salt, although perhaps I could name a country,\\\\r\\\\nwhich would be glad to eat up our whole nation without it.\\\\r\\\\n\\\\r\\\\nAfter all, I am not so violently bent upon my own opinion, as to reject\\\\r\\\\nany offer, proposed by wise men, which shall be found equally innocent,\\\\r\\\\ncheap, easy, and effectual. But before something of that kind shall be\\\\r\\\\nadvanced in contradiction to my scheme, and offering a better, I desire\\\\r\\\\nthe author or authors will be pleased maturely to consider two points.\\\\r\\\\nFirst, As things now stand, how they will be able to find food and\\\\r\\\\nraiment for a hundred thousand useless mouths and backs. And secondly,\\\\r\\\\nThere being a round million of creatures in humane figure throughout\\\\r\\\\nthis kingdom, whose whole subsistence put into a common stock, would\\\\r\\\\nleave them in debt two million of pounds sterling, adding those who are\\\\r\\\\nbeggars by profession, to the bulk of farmers, cottagers and labourers,\\\\r\\\\nwith their wives and children, who are beggars in effect; I desire\\\\r\\\\nthose politicians who dislike my overture, and may perhaps be so bold\\\\r\\\\nto attempt an answer, that they will first ask the parents of these\\\\r\\\\nmortals, whether they would not at this day think it a great happiness\\\\r\\\\nto have been sold for food at a year old, in the manner I prescribe,\\\\r\\\\nand thereby have avoided such a perpetual scene of misfortunes, as they\\\\r\\\\nhave since gone through, by the oppression of landlords, the\\\\r\\\\nimpossibility of paying rent without money or trade, the want of common\\\\r\\\\nsustenance, with neither house nor clothes to cover them from the\\\\r\\\\ninclemencies of the weather, and the most inevitable prospect of\\\\r\\\\nintailing the like, or greater miseries, upon their breed for ever.\\\\r\\\\n\\\\r\\\\nI profess in the sincerity of my heart, that I have not the least\\\\r\\\\npersonal interest in endeavouring to promote this necessary work,\\\\r\\\\nhaving no other motive than the publick good of my country, by\\\\r\\\\nadvancing our trade, providing for infants, relieving the poor, and\\\\r\\\\ngiving some pleasure to the rich. I have no children, by which I can\\\\r\\\\npropose to get a single penny; the youngest being nine years old, and\\\\r\\\\nmy wife past child-bearing.\\\\r\\\\n\\\\r\\\\n\\\\r\\\\n\\\\r\\\\n\\\\r\\\\n'"
            ]
          },
          "metadata": {},
          "execution_count": 4
        }
      ]
    },
    {
      "cell_type": "code",
      "metadata": {
        "colab": {
          "base_uri": "https://localhost:8080/",
          "height": 86
        },
        "id": "ToElfwXjZWzb",
        "outputId": "2b790fc5-b046-4a91-dd63-4bf5cfd0cb67"
      },
      "source": [
        "# cut down some of text data\n",
        "text_data = text_data[:500]\n",
        "text_data"
      ],
      "execution_count": 14,
      "outputs": [
        {
          "output_type": "execute_result",
          "data": {
            "application/vnd.google.colaboratory.intrinsic+json": {
              "type": "string"
            },
            "text/plain": [
              "'\\\\r\\\\n\\\\r\\\\n\\\\r\\\\n\\\\r\\\\n\\\\r\\\\nA Modest Proposal\\\\r\\\\n\\\\r\\\\nFor preventing the children of poor people in Ireland,\\\\r\\\\nfrom being a burden on their parents or country,\\\\r\\\\nand for making them beneficial to the publick.\\\\r\\\\n\\\\r\\\\nby Dr. Jonathan Swift\\\\r\\\\n\\\\r\\\\n1729\\\\r\\\\n\\\\r\\\\n\\\\r\\\\n\\\\r\\\\n\\\\r\\\\nIt is a melancholy object to those, who walk through this great town,\\\\r\\\\nor travel in the country, when they see the streets, the roads, and\\\\r\\\\ncabbin-doors crowded with beggars of the female sex, followed by three,\\\\r\\\\nfour, or six childr'"
            ]
          },
          "metadata": {},
          "execution_count": 14
        }
      ]
    },
    {
      "cell_type": "code",
      "metadata": {
        "id": "vqqeTCCvZd3J"
      },
      "source": [
        "# encode text data as context\n",
        "input_ids = tokenizer.encode(text_data, return_tensors='tf')"
      ],
      "execution_count": 15,
      "outputs": []
    },
    {
      "cell_type": "markdown",
      "metadata": {
        "id": "KLfLu5GkeSrV"
      },
      "source": [
        "# PyTorch and GPT2"
      ]
    },
    {
      "cell_type": "code",
      "metadata": {
        "colab": {
          "base_uri": "https://localhost:8080/",
          "height": 117,
          "referenced_widgets": [
            "ea81c4af03cb4ebca3f62ad50742af93",
            "b76dc3f6615342f1ab0891c71712aa3d",
            "6649b78c19c74ddf8ae9aa1a8a4c96b5",
            "37e5afd180b14e77ad25229e81ed12ad",
            "8db5c58d7c124a7cad3c8d4cad453a7b",
            "4a6a1fc1718d4e509a3658233b60a21c",
            "146d24be19b84ce5959cca7981cc5b59",
            "da3e6fa3af454948b1c4ee3f430ddbe0",
            "7bb45012d8854a439fb28cc8c39f2540",
            "25d700c6339942f997179e7251ea6722",
            "d8ad66fe6a3941d3a177dd3350302eb3"
          ]
        },
        "id": "QkWRYc56Yie-",
        "outputId": "2f4f0476-77e3-4c27-aebe-02d660bfc2a0"
      },
      "source": [
        "import tensorflow as tf\n",
        "from transformers import TFGPT2LMHeadModel, GPT2Tokenizer\n",
        "\n",
        "tokenizer = GPT2Tokenizer.from_pretrained(\"gpt2\")\n",
        "\n",
        "# EOS token as PAD token to avoid warnings\n",
        "model = TFGPT2LMHeadModel.from_pretrained(\"gpt2\", pad_token_id=tokenizer.eos_token_id)"
      ],
      "execution_count": 11,
      "outputs": [
        {
          "output_type": "display_data",
          "data": {
            "application/vnd.jupyter.widget-view+json": {
              "model_id": "ea81c4af03cb4ebca3f62ad50742af93",
              "version_minor": 0,
              "version_major": 2
            },
            "text/plain": [
              "Downloading:   0%|          | 0.00/475M [00:00<?, ?B/s]"
            ]
          },
          "metadata": {}
        },
        {
          "output_type": "stream",
          "name": "stderr",
          "text": [
            "All model checkpoint layers were used when initializing TFGPT2LMHeadModel.\n",
            "\n",
            "All the layers of TFGPT2LMHeadModel were initialized from the model checkpoint at gpt2.\n",
            "If your task is similar to the task the model of the checkpoint was trained on, you can already use TFGPT2LMHeadModel for predictions without further training.\n"
          ]
        }
      ]
    },
    {
      "cell_type": "code",
      "metadata": {
        "id": "CmumjVHEZ83O"
      },
      "source": [
        "# generate text until output length\n",
        "# greedy search for text generation\n",
        "greedy_output = model.generate(input_ids, max_length=200)"
      ],
      "execution_count": 25,
      "outputs": []
    },
    {
      "cell_type": "code",
      "metadata": {
        "colab": {
          "base_uri": "https://localhost:8080/"
        },
        "id": "OKkxnVBWaDE3",
        "outputId": "9f711bb5-6f63-49fa-a1a7-0cbea7d18611"
      },
      "source": [
        "# output\n",
        "print(tokenizer.decode(greedy_output[0], skip_special_tokens=True))"
      ],
      "execution_count": 26,
      "outputs": [
        {
          "output_type": "stream",
          "name": "stdout",
          "text": [
            "\\r\\n\\r\\n\\r\\n\\r\\n\\r\\nA Modest Proposal\\r\\n\\r\\nFor preventing the children of poor people in Ireland,\\r\\nfrom being a burden on their parents or country,\\r\\nand for making them beneficial to the publick.\\r\\n\\r\\nby Dr. Jonathan Swift\\r\\n\\r\\n1729\\r\\n\\r\\n\\r\\n\\r\\n\\r\\nIt is a melancholy object to those, who walk through this great town,\\r\\nor travel in the country, when they see the streets, the roads, and\\r\\ncabbin-doors crowded with beggars of the female sex, followed by three,\\r\\nfour, or six childriders,\\r\\nfive, or six children,\\r\\nsix, or seven children\n"
          ]
        }
      ]
    },
    {
      "cell_type": "code",
      "metadata": {
        "id": "k2c2WTi5areL"
      },
      "source": [
        "# using beam search and early stopping\n",
        "beam_output = model.generate(input_ids, max_length=200, num_beams=5, early_stopping=True)"
      ],
      "execution_count": 27,
      "outputs": []
    },
    {
      "cell_type": "code",
      "metadata": {
        "colab": {
          "base_uri": "https://localhost:8080/"
        },
        "id": "aKTjqCXObPtY",
        "outputId": "a254ddbb-55cc-4fa2-ee47-03a0d33bdcb6"
      },
      "source": [
        "# output\n",
        "print(tokenizer.decode(beam_output[0], skip_special_tokens=True))"
      ],
      "execution_count": 28,
      "outputs": [
        {
          "output_type": "stream",
          "name": "stdout",
          "text": [
            "\\r\\n\\r\\n\\r\\n\\r\\n\\r\\nA Modest Proposal\\r\\n\\r\\nFor preventing the children of poor people in Ireland,\\r\\nfrom being a burden on their parents or country,\\r\\nand for making them beneficial to the publick.\\r\\n\\r\\nby Dr. Jonathan Swift\\r\\n\\r\\n1729\\r\\n\\r\\n\\r\\n\\r\\n\\r\\nIt is a melancholy object to those, who walk through this great town,\\r\\nor travel in the country, when they see the streets, the roads, and\\r\\ncabbin-doors crowded with beggars of the female sex, followed by three,\\r\\nfour, or six childriders.\\r\\n\\r\\n\\r\\n\\r\\n\\r\\\n"
          ]
        }
      ]
    },
    {
      "cell_type": "markdown",
      "metadata": {
        "id": "35J-lgmnebkA"
      },
      "source": [
        "# HuggingFace's Trainer Class (API) & BERT"
      ]
    },
    {
      "cell_type": "code",
      "metadata": {
        "id": "7bvNqwqRe75J"
      },
      "source": [
        "# the Trainer Class provides an API for feature-complete training for most use cases\n",
        "# provides basic training loop but allows for customization through arguments"
      ],
      "execution_count": null,
      "outputs": []
    },
    {
      "cell_type": "code",
      "metadata": {
        "id": "3o0eJI1TeVSI"
      },
      "source": [
        "# use pre-trained BERT model\n",
        "from transformers import AutoModel\n",
        "model = AutoModel.from_pretrained('bert-base-cased')"
      ],
      "execution_count": null,
      "outputs": []
    },
    {
      "cell_type": "code",
      "metadata": {
        "id": "ITdj307Pemu2"
      },
      "source": [
        "# set training arguments/hyperparameters\n",
        "from transformers import TrainingArguments\n",
        "\n",
        "training_args = TrainingArguments(\"test_trainer\")"
      ],
      "execution_count": null,
      "outputs": []
    },
    {
      "cell_type": "code",
      "metadata": {
        "id": "Y2N7PLtbeoPC"
      },
      "source": [
        "# instantiate a Trainer class\n",
        "from transformers import Trainer\n",
        "trainer = Trainer(\n",
        "    model=model, args=training_args, train_dataset=train_dataset, eval_dataset=eval_dataset\n",
        ")"
      ],
      "execution_count": null,
      "outputs": []
    },
    {
      "cell_type": "code",
      "metadata": {
        "id": "SDyBmwsZeu62"
      },
      "source": [
        "# train the model\n",
        "trainer.train()"
      ],
      "execution_count": null,
      "outputs": []
    },
    {
      "cell_type": "code",
      "metadata": {
        "id": "nufjbevDfRBr"
      },
      "source": [
        "# helper function for model evalutation\n",
        "import numpy as np\n",
        "from datasets import load_metric\n",
        "\n",
        "metric = load_metric(\"accuracy\")\n",
        "\n",
        "def compute_metrics(eval_pred):\n",
        "    logits, labels = eval_pred\n",
        "    predictions = np.argmax(logits, axis=-1)\n",
        "    return metric.compute(predictions=predictions, references=labels)"
      ],
      "execution_count": null,
      "outputs": []
    },
    {
      "cell_type": "code",
      "metadata": {
        "id": "0lFap575fjox"
      },
      "source": [
        "# evaluate the model\n",
        "trainer = Trainer(\n",
        "    model=model,\n",
        "    args=training_args,\n",
        "    train_dataset=train_dataset,\n",
        "    eval_dataset=eval_dataset,\n",
        "    compute_metrics=compute_metrics,\n",
        ")\n",
        "trainer.evaluate()"
      ],
      "execution_count": null,
      "outputs": []
    },
    {
      "cell_type": "markdown",
      "metadata": {
        "id": "ec4YriVZbYXq"
      },
      "source": [
        "# References:\n"
      ]
    },
    {
      "cell_type": "markdown",
      "metadata": {
        "id": "sr1PwNDcbXtE"
      },
      "source": [
        "* https://huggingface.co/blog/how-to-generate\n",
        "* https://huggingface.co/transformers/training.html"
      ]
    },
    {
      "cell_type": "code",
      "metadata": {
        "id": "6MAyuUmSfz5d"
      },
      "source": [
        ""
      ],
      "execution_count": null,
      "outputs": []
    }
  ]
}